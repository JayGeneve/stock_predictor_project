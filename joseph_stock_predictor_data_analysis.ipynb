{
 "cells": [
  {
   "cell_type": "markdown",
   "id": "ae088409-fb31-4096-925b-622724bdaaa6",
   "metadata": {},
   "source": [
    "## What we need \n",
    "\n",
    "Get data from WRDS --> is this through openAP\n",
    "\n",
    "get data from FRED? -- Where is this? \n",
    "get fama french factors? \n",
    "\n",
    "How do we get the long-short positions?? like how do we see the returns?\n",
    "\n",
    "are we able to get wrds connection or should we get a file downloaded from you \n",
    "\n",
    "will we be able to use gridsearchCV to run multiple models at once?"
   ]
  },
  {
   "cell_type": "code",
   "execution_count": null,
   "id": "9ddfe286",
   "metadata": {},
   "outputs": [],
   "source": [
    "DEV = TRUE # will shrink datasets after loading"
   ]
  },
  {
   "cell_type": "code",
   "execution_count": null,
   "id": "9f8e1944",
   "metadata": {},
   "outputs": [],
   "source": [
    "import pandas as pd\n",
    "import polars as pl\n",
    "\n",
    "import numpy as np\n",
    "\n",
    "import statsmodels.formula.api as smf\n",
    "import statsmodels.api as sm\n",
    "from sklearn.neural_network import MLPRegressor\n",
    "from sklearn.preprocessing import StandardScaler\n",
    "from datetime import datetime\n",
    "from ydata_profiling import ProfileReport\n",
    "import matplotlib.pyplot as plt\n",
    "import seaborn as sns\n",
    "import os"
   ]
  },
  {
   "cell_type": "code",
   "execution_count": null,
   "id": "a2d858ca",
   "metadata": {},
   "outputs": [],
   "source": [
    "crsp = pd.read_csv('crsp_data.csv')\n",
    "crsp.info()\n",
    "\n",
    "# for speedy dev, pick 20 permnos at random (with seed)\n",
    "if DEV:\n",
    "    np.random.seed(123)\n",
    "    permnos = crsp['PERMNO'].unique()\n",
    "    permnos = np.random.choice(permnos, size=20, replace=False)\n",
    "    crsp = crsp[crsp['PERMNO'].isin(permnos)]"
   ]
  },
  {
   "cell_type": "code",
   "execution_count": null,
   "id": "bad5fc17",
   "metadata": {},
   "outputs": [],
   "source": [
    "# crsp = pl.from_pandas(crsp)\n",
    "\n",
    "crsp['date'] = pd.to_datetime(crsp['date'])\n",
    "\n",
    "cleancrsp = crsp.query('ret.notnull() and date.dt.year >= 1975')\n",
    "#crsp[\"ret\"].is_not_null(), crsp['date'].dt.year() >= 1975) \n",
    "# keep only the data that has return and after 1975\n",
    "\n",
    "len(cleancrsp['ret'].notnull()) # check that no null values in ret\n",
    "len(cleancrsp['ret'].notnull()) == len(cleancrsp) # check that all ret values are not null\n",
    "\n",
    "cleancrsp\n"
   ]
  },
  {
   "cell_type": "code",
   "execution_count": null,
   "id": "8ff4fc51",
   "metadata": {},
   "outputs": [],
   "source": [
    "max_idx = cleancrsp['ret'].argmax()\n",
    "\n",
    "cleancrsp.iloc[max_idx-5:max_idx+5] # this seems like an outlier for sure, not to be included in the data --> company is black stone minerals. "
   ]
  },
  {
   "cell_type": "code",
   "execution_count": null,
   "id": "369b5d27",
   "metadata": {},
   "outputs": [],
   "source": [
    "cleancrsp.sort_values('ret').tail(100) # check the top 10 returns\n",
    "# these seem way too high"
   ]
  },
  {
   "cell_type": "code",
   "execution_count": null,
   "id": "7472f693",
   "metadata": {},
   "outputs": [],
   "source": [
    "cleancrsp['ret'].describe(percentiles=[.01, .05, .10, .25, .5, .75, .9, .95, .99, .995]) # check the distribution of returns"
   ]
  },
  {
   "cell_type": "code",
   "execution_count": null,
   "id": "d14f7120",
   "metadata": {},
   "outputs": [],
   "source": [
    "cleancrsp['permno'].nunique() # check the number of unique permnos\n",
    "\n",
    "\n",
    "\n",
    "# profile = ProfileReport(cleancrsp, title=\"CRSP Data Profiling Report\")\n"
   ]
  },
  {
   "cell_type": "code",
   "execution_count": null,
   "id": "7e00654b",
   "metadata": {},
   "outputs": [],
   "source": [
    "# profile"
   ]
  },
  {
   "cell_type": "markdown",
   "id": "b55d7e07",
   "metadata": {},
   "source": [
    "## Open Signals from Zip"
   ]
  },
  {
   "cell_type": "code",
   "execution_count": null,
   "id": "1adb512b",
   "metadata": {},
   "outputs": [],
   "source": [
    "from zipfile import ZipFile\n",
    "\n",
    "\n",
    "def open_dataframe_from_zip(zip_filepath, csv_filename):\n",
    "    \"\"\"\n",
    "    Opens a Pandas DataFrame from a CSV file within a zip archive.\n",
    "\n",
    "    Args:\n",
    "        zip_filepath (str): Path to the zip file.\n",
    "        csv_filename (str): Name of the CSV file inside the zip archive.\n",
    "\n",
    "    Returns:\n",
    "        pandas.DataFrame: The DataFrame read from the CSV file, or None if an error occurs.\n",
    "    \"\"\"\n",
    "    try:\n",
    "        with ZipFile(zip_filepath) as zf:\n",
    "            with zf.open(csv_filename) as csvf:\n",
    "                df = pd.read_csv(csvf)\n",
    "        return df\n",
    "    except FileNotFoundError:\n",
    "        print(f\"Error: Zip file not found at '{zip_filepath}'\")\n",
    "        return None\n",
    "    except KeyError:\n",
    "        print(f\"Error: CSV file '{csv_filename}' not found in the zip archive.\")\n",
    "        return None\n",
    "    except Exception as e:\n",
    "        print(f\"An unexpected error occurred: {e}\")\n",
    "        return None\n",
    "\n",
    "# Example usage:\n",
    "zip_filepath = 'signed_predictors_dl_wide.zip'\n",
    "csv_filename = 'signed_predictors_dl_wide.csv'\n",
    "signals = open_dataframe_from_zip(zip_filepath, csv_filename)\n",
    "\n",
    "if signals is not None:\n",
    "    print(signals.head())\n",
    "    \n",
    "# for speedy dev,\n",
    "if DEV: \n",
    "    signals = signals.iloc[:,:20]\n",
    "\n",
    "    "
   ]
  },
  {
   "cell_type": "code",
   "execution_count": null,
   "id": "385f6c0f",
   "metadata": {},
   "outputs": [],
   "source": [
    "signals.info()"
   ]
  },
  {
   "cell_type": "code",
   "execution_count": null,
   "id": "229a9634",
   "metadata": {},
   "outputs": [],
   "source": [
    "signals_exploration = signals.query('permno == 10000')"
   ]
  },
  {
   "cell_type": "code",
   "execution_count": null,
   "id": "434dc4af",
   "metadata": {},
   "outputs": [],
   "source": [
    "signals_exploration"
   ]
  },
  {
   "cell_type": "code",
   "execution_count": null,
   "id": "1f71f308",
   "metadata": {},
   "outputs": [],
   "source": [
    "cleancrsp.head(30)"
   ]
  },
  {
   "cell_type": "code",
   "execution_count": null,
   "id": "23c1dbc2",
   "metadata": {},
   "outputs": [],
   "source": [
    "def move_column_to_front(df, columns):\n",
    "    return df[columns + [col for col in df.columns if col not in columns]]  \n",
    "\n",
    "# move_column_to_front(signals, ['permno', 'date'])\n"
   ]
  },
  {
   "cell_type": "code",
   "execution_count": null,
   "id": "58e6d78f",
   "metadata": {},
   "outputs": [],
   "source": [
    "signals = signals.rename(columns={'yyyymm': 'yyyymm_signals'})\n",
    "\n",
    "\n",
    "    # Create date that is one month ahead for merging with returns\n",
    "signals[\"yyyymm_signals\"] = signals[\"yyyymm_signals\"].astype(str) \n",
    "signals[\"date\"] = pd.to_datetime(signals[\"yyyymm_signals\"] + \"28\", format=\"%Y%m%d\") + pd.DateOffset(months=1)\n",
    "signals.head()\n",
    "\n",
    "\n"
   ]
  },
  {
   "cell_type": "code",
   "execution_count": null,
   "id": "c4ae566d",
   "metadata": {},
   "outputs": [],
   "source": [
    "\n",
    "\n",
    "# create a new datetime column, use the year and month, but make the date 28th of the month:\n",
    "cleancrsp['date'] = pd.to_datetime(cleancrsp['date'].dt.year*100 + cleancrsp['date'].dt.month, format='%Y%m') + pd.DateOffset(days=27)\n"
   ]
  },
  {
   "cell_type": "markdown",
   "id": "0fda62b6",
   "metadata": {},
   "source": [
    "## Need to Convert yyyymm column to yyyy-mm-dd datetime column, rename to date\n",
    "\n",
    "Something interesting, the crsp dataset uses trading days. How do we get this in our signals dataset. Just go off year-months?\n",
    "\n",
    "Can we merge on yyyy-mm and not include dd so that we can match the crsp dates? But how would it know the date in the future? For instance, would it know the end of the month a year from now, or guess based on the previous crsp dd for that year or month before?\n",
    "\n",
    "Is lagging the signals the right thing to do or do I lag the returns??\n",
    "\n",
    "\n",
    "value weighting \n"
   ]
  },
  {
   "cell_type": "code",
   "execution_count": null,
   "id": "2108c3e9",
   "metadata": {},
   "outputs": [],
   "source": [
    "bigdata = cleancrsp.merge(signals, on=['permno', 'date'], how='left', indicator=True, validate=\"one_to_one\")"
   ]
  }
 ],
 "metadata": {
  "kernelspec": {
   "display_name": "base",
   "language": "python",
   "name": "python3"
  },
  "language_info": {
   "codemirror_mode": {
    "name": "ipython",
    "version": 3
   },
   "file_extension": ".py",
   "mimetype": "text/x-python",
   "name": "python",
   "nbconvert_exporter": "python",
   "pygments_lexer": "ipython3",
   "version": "3.12.7"
  }
 },
 "nbformat": 4,
 "nbformat_minor": 5
}
