{
 "cells": [
  {
   "cell_type": "markdown",
   "id": "ae088409-fb31-4096-925b-622724bdaaa6",
   "metadata": {},
   "source": [
    "## What we need \n",
    "\n",
    "Get data from WRDS --> is this through openAP\n",
    "\n",
    "get data from FRED? -- Where is this? \n",
    "get fama french factors? \n",
    "\n",
    "How do we get the long-short positions?? like how do we see the returns?\n",
    "\n",
    "are we able to get wrds connection or should we get a file downloaded from you \n",
    "\n",
    "will we be able to use gridsearchCV to run multiple models at once?"
   ]
  },
  {
   "cell_type": "code",
   "execution_count": 2,
   "id": "9ddfe286",
   "metadata": {},
   "outputs": [],
   "source": [
    "DEV = True # will shrink datasets after loading\n"
   ]
  },
  {
   "cell_type": "code",
   "execution_count": 4,
   "id": "9f8e1944",
   "metadata": {},
   "outputs": [],
   "source": [
    "import pandas as pd\n",
    "import polars as pl\n",
    "\n",
    "import numpy as np\n",
    "\n",
    "import statsmodels.formula.api as smf\n",
    "import statsmodels.api as sm\n",
    "from sklearn.neural_network import MLPRegressor\n",
    "from sklearn.preprocessing import StandardScaler\n",
    "from datetime import datetime\n",
    "from ydata_profiling import ProfileReport\n",
    "import matplotlib.pyplot as plt\n",
    "import seaborn as sns\n",
    "import os"
   ]
  },
  {
   "cell_type": "code",
   "execution_count": 6,
   "id": "a2d858ca",
   "metadata": {},
   "outputs": [
    {
     "name": "stdout",
     "output_type": "stream",
     "text": [
      "<class 'pandas.core.frame.DataFrame'>\n",
      "RangeIndex: 4047630 entries, 0 to 4047629\n",
      "Data columns (total 3 columns):\n",
      " #   Column  Dtype  \n",
      "---  ------  -----  \n",
      " 0   permno  int64  \n",
      " 1   date    object \n",
      " 2   ret     float64\n",
      "dtypes: float64(1), int64(1), object(1)\n",
      "memory usage: 92.6+ MB\n"
     ]
    }
   ],
   "source": [
    "crsp = pd.read_csv('crsp_data.csv')\n",
    "crsp.info()\n",
    "\n",
    "# for speedy dev, pick 20 permnos at random (with seed)\n",
    "if DEV:\n",
    "    np.random.seed(123)\n",
    "    permnos = crsp['permno'].unique()\n",
    "    permnos = np.random.choice(permnos, size=20, replace=False)\n",
    "    crsp = crsp[crsp['permno'].isin(permnos)]"
   ]
  },
  {
   "cell_type": "code",
   "execution_count": 7,
   "id": "bad5fc17",
   "metadata": {},
   "outputs": [
    {
     "data": {
      "application/vnd.microsoft.datawrangler.viewer.v0+json": {
       "columns": [
        {
         "name": "index",
         "rawType": "int64",
         "type": "integer"
        },
        {
         "name": "permno",
         "rawType": "int64",
         "type": "integer"
        },
        {
         "name": "date",
         "rawType": "datetime64[ns]",
         "type": "datetime"
        },
        {
         "name": "ret",
         "rawType": "float64",
         "type": "float"
        }
       ],
       "conversionMethod": "pd.DataFrame",
       "ref": "cf779c65-08a6-4715-8dde-595164b03b1c",
       "rows": [
        [
         "29180",
         "10181",
         "1986-05-30 00:00:00",
         "6.8493"
        ],
        [
         "29181",
         "10181",
         "1986-06-30 00:00:00",
         "16.6667"
        ],
        [
         "29182",
         "10181",
         "1986-07-31 00:00:00",
         "1.0989"
        ],
        [
         "29183",
         "10181",
         "1986-08-29 00:00:00",
         "-6.5217"
        ],
        [
         "29184",
         "10181",
         "1986-09-30 00:00:00",
         "-4.6512"
        ],
        [
         "29185",
         "10181",
         "1986-10-31 00:00:00",
         "-9.7561"
        ],
        [
         "29186",
         "10181",
         "1986-11-28 00:00:00",
         "0.0"
        ],
        [
         "29187",
         "10181",
         "1986-12-31 00:00:00",
         "-2.7027"
        ],
        [
         "29188",
         "10181",
         "1987-01-30 00:00:00",
         "11.1111"
        ],
        [
         "29189",
         "10181",
         "1987-02-27 00:00:00",
         "-1.25"
        ],
        [
         "29190",
         "10181",
         "1987-03-31 00:00:00",
         "-7.5949"
        ],
        [
         "29191",
         "10181",
         "1987-04-30 00:00:00",
         "-2.7397"
        ],
        [
         "29192",
         "10181",
         "1987-05-29 00:00:00",
         "-12.6761"
        ],
        [
         "29193",
         "10181",
         "1987-06-30 00:00:00",
         "-16.129"
        ],
        [
         "29194",
         "10181",
         "1987-07-31 00:00:00",
         "-15.3846"
        ],
        [
         "29195",
         "10181",
         "1987-08-31 00:00:00",
         "-2.2727"
        ],
        [
         "29196",
         "10181",
         "1987-09-30 00:00:00",
         "-20.9302"
        ],
        [
         "29197",
         "10181",
         "1987-10-30 00:00:00",
         "-11.7647"
        ],
        [
         "29198",
         "10181",
         "1987-11-30 00:00:00",
         "-36.6667"
        ],
        [
         "29199",
         "10181",
         "1987-12-31 00:00:00",
         "-36.8421"
        ],
        [
         "29200",
         "10181",
         "1988-01-29 00:00:00",
         "16.6667"
        ],
        [
         "29201",
         "10181",
         "1988-02-29 00:00:00",
         "-14.2857"
        ],
        [
         "29202",
         "10181",
         "1988-03-31 00:00:00",
         "16.6667"
        ],
        [
         "29203",
         "10181",
         "1988-04-29 00:00:00",
         "0.0"
        ],
        [
         "29204",
         "10181",
         "1988-05-31 00:00:00",
         "7.1429"
        ],
        [
         "29205",
         "10181",
         "1988-06-30 00:00:00",
         "-46.6667"
        ],
        [
         "29206",
         "10181",
         "1988-07-29 00:00:00",
         "-28.125"
        ],
        [
         "29207",
         "10181",
         "1988-08-31 00:00:00",
         "-21.7391"
        ],
        [
         "29208",
         "10181",
         "1988-09-30 00:00:00",
         "-27.7778"
        ],
        [
         "29209",
         "10181",
         "1988-10-31 00:00:00",
         "-23.0769"
        ],
        [
         "29210",
         "10181",
         "1988-11-30 00:00:00",
         "70.0"
        ],
        [
         "29211",
         "10181",
         "1988-12-30 00:00:00",
         "-29.4118"
        ],
        [
         "29212",
         "10181",
         "1989-01-31 00:00:00",
         "83.3333"
        ],
        [
         "29213",
         "10181",
         "1989-02-28 00:00:00",
         "-22.7273"
        ],
        [
         "29214",
         "10181",
         "1989-03-31 00:00:00",
         "-5.8824"
        ],
        [
         "29215",
         "10181",
         "1989-04-28 00:00:00",
         "-50.0"
        ],
        [
         "29216",
         "10181",
         "1989-05-31 00:00:00",
         "25.0"
        ],
        [
         "29217",
         "10181",
         "1989-06-30 00:00:00",
         "-20.0"
        ],
        [
         "29218",
         "10181",
         "1989-07-31 00:00:00",
         "-25.0"
        ],
        [
         "29219",
         "10181",
         "1989-08-31 00:00:00",
         "0.0"
        ],
        [
         "29220",
         "10181",
         "1989-09-29 00:00:00",
         "0.0"
        ],
        [
         "29221",
         "10181",
         "1989-10-31 00:00:00",
         "0.0"
        ],
        [
         "29222",
         "10181",
         "1989-11-30 00:00:00",
         "0.0"
        ],
        [
         "29223",
         "10181",
         "1989-12-29 00:00:00",
         "8.3333"
        ],
        [
         "29224",
         "10181",
         "1990-01-31 00:00:00",
         "0.0"
        ],
        [
         "29225",
         "10181",
         "1990-02-28 00:00:00",
         "-15.3846"
        ],
        [
         "566157",
         "14985",
         "2014-11-28 00:00:00",
         "3.5404"
        ],
        [
         "566158",
         "14985",
         "2014-12-31 00:00:00",
         "4.7742"
        ],
        [
         "566159",
         "14985",
         "2015-01-30 00:00:00",
         "-6.6503"
        ],
        [
         "566160",
         "14985",
         "2015-02-27 00:00:00",
         "18.4697"
        ]
       ],
       "shape": {
        "columns": 3,
        "rows": 2497
       }
      },
      "text/html": [
       "<div>\n",
       "<style scoped>\n",
       "    .dataframe tbody tr th:only-of-type {\n",
       "        vertical-align: middle;\n",
       "    }\n",
       "\n",
       "    .dataframe tbody tr th {\n",
       "        vertical-align: top;\n",
       "    }\n",
       "\n",
       "    .dataframe thead th {\n",
       "        text-align: right;\n",
       "    }\n",
       "</style>\n",
       "<table border=\"1\" class=\"dataframe\">\n",
       "  <thead>\n",
       "    <tr style=\"text-align: right;\">\n",
       "      <th></th>\n",
       "      <th>permno</th>\n",
       "      <th>date</th>\n",
       "      <th>ret</th>\n",
       "    </tr>\n",
       "  </thead>\n",
       "  <tbody>\n",
       "    <tr>\n",
       "      <th>29180</th>\n",
       "      <td>10181</td>\n",
       "      <td>1986-05-30</td>\n",
       "      <td>6.8493</td>\n",
       "    </tr>\n",
       "    <tr>\n",
       "      <th>29181</th>\n",
       "      <td>10181</td>\n",
       "      <td>1986-06-30</td>\n",
       "      <td>16.6667</td>\n",
       "    </tr>\n",
       "    <tr>\n",
       "      <th>29182</th>\n",
       "      <td>10181</td>\n",
       "      <td>1986-07-31</td>\n",
       "      <td>1.0989</td>\n",
       "    </tr>\n",
       "    <tr>\n",
       "      <th>29183</th>\n",
       "      <td>10181</td>\n",
       "      <td>1986-08-29</td>\n",
       "      <td>-6.5217</td>\n",
       "    </tr>\n",
       "    <tr>\n",
       "      <th>29184</th>\n",
       "      <td>10181</td>\n",
       "      <td>1986-09-30</td>\n",
       "      <td>-4.6512</td>\n",
       "    </tr>\n",
       "    <tr>\n",
       "      <th>...</th>\n",
       "      <td>...</td>\n",
       "      <td>...</td>\n",
       "      <td>...</td>\n",
       "    </tr>\n",
       "    <tr>\n",
       "      <th>4037917</th>\n",
       "      <td>93235</td>\n",
       "      <td>2014-04-30</td>\n",
       "      <td>17.2319</td>\n",
       "    </tr>\n",
       "    <tr>\n",
       "      <th>4037918</th>\n",
       "      <td>93235</td>\n",
       "      <td>2014-05-30</td>\n",
       "      <td>-1.3066</td>\n",
       "    </tr>\n",
       "    <tr>\n",
       "      <th>4037919</th>\n",
       "      <td>93235</td>\n",
       "      <td>2014-06-30</td>\n",
       "      <td>5.7683</td>\n",
       "    </tr>\n",
       "    <tr>\n",
       "      <th>4037920</th>\n",
       "      <td>93235</td>\n",
       "      <td>2014-07-31</td>\n",
       "      <td>-2.9951</td>\n",
       "    </tr>\n",
       "    <tr>\n",
       "      <th>4037921</th>\n",
       "      <td>93235</td>\n",
       "      <td>2014-08-29</td>\n",
       "      <td>1.1060</td>\n",
       "    </tr>\n",
       "  </tbody>\n",
       "</table>\n",
       "<p>2497 rows × 3 columns</p>\n",
       "</div>"
      ],
      "text/plain": [
       "         permno       date      ret\n",
       "29180     10181 1986-05-30   6.8493\n",
       "29181     10181 1986-06-30  16.6667\n",
       "29182     10181 1986-07-31   1.0989\n",
       "29183     10181 1986-08-29  -6.5217\n",
       "29184     10181 1986-09-30  -4.6512\n",
       "...         ...        ...      ...\n",
       "4037917   93235 2014-04-30  17.2319\n",
       "4037918   93235 2014-05-30  -1.3066\n",
       "4037919   93235 2014-06-30   5.7683\n",
       "4037920   93235 2014-07-31  -2.9951\n",
       "4037921   93235 2014-08-29   1.1060\n",
       "\n",
       "[2497 rows x 3 columns]"
      ]
     },
     "execution_count": 7,
     "metadata": {},
     "output_type": "execute_result"
    }
   ],
   "source": [
    "# crsp = pl.from_pandas(crsp)\n",
    "\n",
    "crsp['date'] = pd.to_datetime(crsp['date'])\n",
    "\n",
    "cleancrsp = crsp.query('ret.notnull() and date.dt.year >= 1975')\n",
    "#crsp[\"ret\"].is_not_null(), crsp['date'].dt.year() >= 1975) \n",
    "# keep only the data that has return and after 1975\n",
    "\n",
    "len(cleancrsp['ret'].notnull()) # check that no null values in ret\n",
    "len(cleancrsp['ret'].notnull()) == len(cleancrsp) # check that all ret values are not null\n",
    "\n",
    "cleancrsp\n"
   ]
  },
  {
   "cell_type": "code",
   "execution_count": null,
   "id": "8ff4fc51",
   "metadata": {},
   "outputs": [],
   "source": [
    "max_idx = cleancrsp['ret'].argmax()\n",
    "\n",
    "cleancrsp.iloc[max_idx-5:max_idx+5] # this seems like an outlier for sure, not to be included in the data --> company is black stone minerals. "
   ]
  },
  {
   "cell_type": "code",
   "execution_count": null,
   "id": "369b5d27",
   "metadata": {},
   "outputs": [],
   "source": [
    "cleancrsp.sort_values('ret').tail(100) # check the top 10 returns\n",
    "# these seem way too high"
   ]
  },
  {
   "cell_type": "code",
   "execution_count": null,
   "id": "7472f693",
   "metadata": {},
   "outputs": [],
   "source": [
    "cleancrsp['ret'].describe(percentiles=[.01, .05, .10, .25, .5, .75, .9, .95, .99, .995]) # check the distribution of returns"
   ]
  },
  {
   "cell_type": "code",
   "execution_count": null,
   "id": "d14f7120",
   "metadata": {},
   "outputs": [],
   "source": [
    "cleancrsp['permno'].nunique() # check the number of unique permnos\n",
    "\n",
    "\n",
    "\n",
    "# profile = ProfileReport(cleancrsp, title=\"CRSP Data Profiling Report\")\n"
   ]
  },
  {
   "cell_type": "code",
   "execution_count": null,
   "id": "7e00654b",
   "metadata": {},
   "outputs": [],
   "source": [
    "# profile"
   ]
  },
  {
   "cell_type": "markdown",
   "id": "b55d7e07",
   "metadata": {},
   "source": [
    "## Open Signals from Zip"
   ]
  },
  {
   "cell_type": "code",
   "execution_count": 8,
   "id": "1adb512b",
   "metadata": {},
   "outputs": [
    {
     "name": "stdout",
     "output_type": "stream",
     "text": [
      "   permno  yyyymm  AM  AOP  AbnormalAccruals  Accruals  AccrualsBM  Activism1  \\\n",
      "0   10000  198601 NaN  NaN               NaN       NaN         NaN        NaN   \n",
      "1   10000  198602 NaN  NaN               NaN       NaN         NaN        NaN   \n",
      "2   10000  198603 NaN  NaN               NaN       NaN         NaN        NaN   \n",
      "3   10000  198604 NaN  NaN               NaN       NaN         NaN        NaN   \n",
      "4   10000  198605 NaN  NaN               NaN       NaN         NaN        NaN   \n",
      "\n",
      "   Activism2  AdExp  ...  retConglomerate  roaq  sfe  sinAlgo  skew1  \\\n",
      "0        NaN    NaN  ...              NaN   NaN  NaN      NaN    NaN   \n",
      "1        NaN    NaN  ...              NaN   NaN  NaN      NaN    NaN   \n",
      "2        NaN    NaN  ...              NaN   NaN  NaN      NaN    NaN   \n",
      "3        NaN    NaN  ...              NaN   NaN  NaN      NaN    NaN   \n",
      "4        NaN    NaN  ...              NaN   NaN  NaN      NaN    NaN   \n",
      "\n",
      "   std_turn  tang  zerotrade12M   zerotrade1M  zerotrade6M  \n",
      "0       NaN   NaN           NaN           NaN          NaN  \n",
      "1       NaN   NaN           NaN  4.785175e-08          NaN  \n",
      "2       NaN   NaN           NaN  1.023392e-07          NaN  \n",
      "3       NaN   NaN           NaN  7.467463e-08          NaN  \n",
      "4       NaN   NaN           NaN  7.649551e-08          NaN  \n",
      "\n",
      "[5 rows x 211 columns]\n"
     ]
    }
   ],
   "source": [
    "from zipfile import ZipFile\n",
    "\n",
    "\n",
    "def open_dataframe_from_zip(zip_filepath, csv_filename):\n",
    "    \"\"\"\n",
    "    Opens a Pandas DataFrame from a CSV file within a zip archive.\n",
    "\n",
    "    Args:\n",
    "        zip_filepath (str): Path to the zip file.\n",
    "        csv_filename (str): Name of the CSV file inside the zip archive.\n",
    "\n",
    "    Returns:\n",
    "        pandas.DataFrame: The DataFrame read from the CSV file, or None if an error occurs.\n",
    "    \"\"\"\n",
    "    try:\n",
    "        with ZipFile(zip_filepath) as zf:\n",
    "            with zf.open(csv_filename) as csvf:\n",
    "                df = pd.read_csv(csvf)\n",
    "        return df\n",
    "    except FileNotFoundError:\n",
    "        print(f\"Error: Zip file not found at '{zip_filepath}'\")\n",
    "        return None\n",
    "    except KeyError:\n",
    "        print(f\"Error: CSV file '{csv_filename}' not found in the zip archive.\")\n",
    "        return None\n",
    "    except Exception as e:\n",
    "        print(f\"An unexpected error occurred: {e}\")\n",
    "        return None\n",
    "\n",
    "# Example usage:\n",
    "zip_filepath = 'signed_predictors_dl_wide.zip'\n",
    "csv_filename = 'signed_predictors_dl_wide.csv'\n",
    "signals = open_dataframe_from_zip(zip_filepath, csv_filename)\n",
    "\n",
    "if signals is not None:\n",
    "    print(signals.head())\n",
    "    \n",
    "# for speedy dev,\n",
    "if DEV: \n",
    "    signals = signals.iloc[:,:20]\n",
    "\n",
    "    "
   ]
  },
  {
   "cell_type": "code",
   "execution_count": 9,
   "id": "385f6c0f",
   "metadata": {},
   "outputs": [
    {
     "name": "stdout",
     "output_type": "stream",
     "text": [
      "<class 'pandas.core.frame.DataFrame'>\n",
      "RangeIndex: 5273600 entries, 0 to 5273599\n",
      "Data columns (total 20 columns):\n",
      " #   Column              Dtype  \n",
      "---  ------              -----  \n",
      " 0   permno              int64  \n",
      " 1   yyyymm              int64  \n",
      " 2   AM                  float64\n",
      " 3   AOP                 float64\n",
      " 4   AbnormalAccruals    float64\n",
      " 5   Accruals            float64\n",
      " 6   AccrualsBM          float64\n",
      " 7   Activism1           float64\n",
      " 8   Activism2           float64\n",
      " 9   AdExp               float64\n",
      " 10  AgeIPO              float64\n",
      " 11  AnalystRevision     float64\n",
      " 12  AnalystValue        float64\n",
      " 13  AnnouncementReturn  float64\n",
      " 14  AssetGrowth         float64\n",
      " 15  BM                  float64\n",
      " 16  BMdec               float64\n",
      " 17  BPEBM               float64\n",
      " 18  Beta                float64\n",
      " 19  BetaFP              float64\n",
      "dtypes: float64(18), int64(2)\n",
      "memory usage: 804.7 MB\n"
     ]
    }
   ],
   "source": [
    "signals.info()"
   ]
  },
  {
   "cell_type": "code",
   "execution_count": 10,
   "id": "23c1dbc2",
   "metadata": {},
   "outputs": [],
   "source": [
    "def move_column_to_front(df, columns):\n",
    "    return df[columns + [col for col in df.columns if col not in columns]]  \n",
    "\n",
    "\n"
   ]
  },
  {
   "cell_type": "code",
   "execution_count": null,
   "id": "58e6d78f",
   "metadata": {},
   "outputs": [
    {
     "data": {
      "application/vnd.microsoft.datawrangler.viewer.v0+json": {
       "columns": [
        {
         "name": "index",
         "rawType": "int64",
         "type": "integer"
        },
        {
         "name": "permno",
         "rawType": "int64",
         "type": "integer"
        },
        {
         "name": "yyyymm_signals",
         "rawType": "object",
         "type": "string"
        },
        {
         "name": "AM",
         "rawType": "float64",
         "type": "float"
        },
        {
         "name": "AOP",
         "rawType": "float64",
         "type": "float"
        },
        {
         "name": "AbnormalAccruals",
         "rawType": "float64",
         "type": "float"
        },
        {
         "name": "Accruals",
         "rawType": "float64",
         "type": "float"
        },
        {
         "name": "AccrualsBM",
         "rawType": "float64",
         "type": "float"
        },
        {
         "name": "Activism1",
         "rawType": "float64",
         "type": "float"
        },
        {
         "name": "Activism2",
         "rawType": "float64",
         "type": "float"
        },
        {
         "name": "AdExp",
         "rawType": "float64",
         "type": "float"
        },
        {
         "name": "AgeIPO",
         "rawType": "float64",
         "type": "float"
        },
        {
         "name": "AnalystRevision",
         "rawType": "float64",
         "type": "float"
        },
        {
         "name": "AnalystValue",
         "rawType": "float64",
         "type": "float"
        },
        {
         "name": "AnnouncementReturn",
         "rawType": "float64",
         "type": "float"
        },
        {
         "name": "AssetGrowth",
         "rawType": "float64",
         "type": "float"
        },
        {
         "name": "BM",
         "rawType": "float64",
         "type": "float"
        },
        {
         "name": "BMdec",
         "rawType": "float64",
         "type": "float"
        },
        {
         "name": "BPEBM",
         "rawType": "float64",
         "type": "float"
        },
        {
         "name": "Beta",
         "rawType": "float64",
         "type": "float"
        },
        {
         "name": "BetaFP",
         "rawType": "float64",
         "type": "float"
        },
        {
         "name": "date",
         "rawType": "datetime64[ns]",
         "type": "datetime"
        }
       ],
       "conversionMethod": "pd.DataFrame",
       "ref": "7ecb6603-e648-4232-be60-6b8048f73fca",
       "rows": [
        [
         "0",
         "10000",
         "198601",
         null,
         null,
         null,
         null,
         null,
         null,
         null,
         null,
         null,
         null,
         null,
         null,
         null,
         null,
         null,
         null,
         null,
         null,
         "1986-02-28 00:00:00"
        ],
        [
         "1",
         "10000",
         "198602",
         null,
         null,
         null,
         null,
         null,
         null,
         null,
         null,
         null,
         null,
         null,
         null,
         null,
         null,
         null,
         null,
         null,
         null,
         "1986-03-28 00:00:00"
        ],
        [
         "2",
         "10000",
         "198603",
         null,
         null,
         null,
         null,
         null,
         null,
         null,
         null,
         null,
         null,
         null,
         null,
         null,
         null,
         null,
         null,
         null,
         null,
         "1986-04-28 00:00:00"
        ],
        [
         "3",
         "10000",
         "198604",
         null,
         null,
         null,
         null,
         null,
         null,
         null,
         null,
         null,
         null,
         null,
         null,
         null,
         null,
         null,
         null,
         null,
         null,
         "1986-05-28 00:00:00"
        ],
        [
         "4",
         "10000",
         "198605",
         null,
         null,
         null,
         null,
         null,
         null,
         null,
         null,
         null,
         null,
         null,
         null,
         null,
         null,
         null,
         null,
         null,
         null,
         "1986-06-28 00:00:00"
        ]
       ],
       "shape": {
        "columns": 21,
        "rows": 5
       }
      },
      "text/html": [
       "<div>\n",
       "<style scoped>\n",
       "    .dataframe tbody tr th:only-of-type {\n",
       "        vertical-align: middle;\n",
       "    }\n",
       "\n",
       "    .dataframe tbody tr th {\n",
       "        vertical-align: top;\n",
       "    }\n",
       "\n",
       "    .dataframe thead th {\n",
       "        text-align: right;\n",
       "    }\n",
       "</style>\n",
       "<table border=\"1\" class=\"dataframe\">\n",
       "  <thead>\n",
       "    <tr style=\"text-align: right;\">\n",
       "      <th></th>\n",
       "      <th>permno</th>\n",
       "      <th>yyyymm_signals</th>\n",
       "      <th>AM</th>\n",
       "      <th>AOP</th>\n",
       "      <th>AbnormalAccruals</th>\n",
       "      <th>Accruals</th>\n",
       "      <th>AccrualsBM</th>\n",
       "      <th>Activism1</th>\n",
       "      <th>Activism2</th>\n",
       "      <th>AdExp</th>\n",
       "      <th>...</th>\n",
       "      <th>AnalystRevision</th>\n",
       "      <th>AnalystValue</th>\n",
       "      <th>AnnouncementReturn</th>\n",
       "      <th>AssetGrowth</th>\n",
       "      <th>BM</th>\n",
       "      <th>BMdec</th>\n",
       "      <th>BPEBM</th>\n",
       "      <th>Beta</th>\n",
       "      <th>BetaFP</th>\n",
       "      <th>date</th>\n",
       "    </tr>\n",
       "  </thead>\n",
       "  <tbody>\n",
       "    <tr>\n",
       "      <th>0</th>\n",
       "      <td>10000</td>\n",
       "      <td>198601</td>\n",
       "      <td>NaN</td>\n",
       "      <td>NaN</td>\n",
       "      <td>NaN</td>\n",
       "      <td>NaN</td>\n",
       "      <td>NaN</td>\n",
       "      <td>NaN</td>\n",
       "      <td>NaN</td>\n",
       "      <td>NaN</td>\n",
       "      <td>...</td>\n",
       "      <td>NaN</td>\n",
       "      <td>NaN</td>\n",
       "      <td>NaN</td>\n",
       "      <td>NaN</td>\n",
       "      <td>NaN</td>\n",
       "      <td>NaN</td>\n",
       "      <td>NaN</td>\n",
       "      <td>NaN</td>\n",
       "      <td>NaN</td>\n",
       "      <td>1986-02-28</td>\n",
       "    </tr>\n",
       "    <tr>\n",
       "      <th>1</th>\n",
       "      <td>10000</td>\n",
       "      <td>198602</td>\n",
       "      <td>NaN</td>\n",
       "      <td>NaN</td>\n",
       "      <td>NaN</td>\n",
       "      <td>NaN</td>\n",
       "      <td>NaN</td>\n",
       "      <td>NaN</td>\n",
       "      <td>NaN</td>\n",
       "      <td>NaN</td>\n",
       "      <td>...</td>\n",
       "      <td>NaN</td>\n",
       "      <td>NaN</td>\n",
       "      <td>NaN</td>\n",
       "      <td>NaN</td>\n",
       "      <td>NaN</td>\n",
       "      <td>NaN</td>\n",
       "      <td>NaN</td>\n",
       "      <td>NaN</td>\n",
       "      <td>NaN</td>\n",
       "      <td>1986-03-28</td>\n",
       "    </tr>\n",
       "    <tr>\n",
       "      <th>2</th>\n",
       "      <td>10000</td>\n",
       "      <td>198603</td>\n",
       "      <td>NaN</td>\n",
       "      <td>NaN</td>\n",
       "      <td>NaN</td>\n",
       "      <td>NaN</td>\n",
       "      <td>NaN</td>\n",
       "      <td>NaN</td>\n",
       "      <td>NaN</td>\n",
       "      <td>NaN</td>\n",
       "      <td>...</td>\n",
       "      <td>NaN</td>\n",
       "      <td>NaN</td>\n",
       "      <td>NaN</td>\n",
       "      <td>NaN</td>\n",
       "      <td>NaN</td>\n",
       "      <td>NaN</td>\n",
       "      <td>NaN</td>\n",
       "      <td>NaN</td>\n",
       "      <td>NaN</td>\n",
       "      <td>1986-04-28</td>\n",
       "    </tr>\n",
       "    <tr>\n",
       "      <th>3</th>\n",
       "      <td>10000</td>\n",
       "      <td>198604</td>\n",
       "      <td>NaN</td>\n",
       "      <td>NaN</td>\n",
       "      <td>NaN</td>\n",
       "      <td>NaN</td>\n",
       "      <td>NaN</td>\n",
       "      <td>NaN</td>\n",
       "      <td>NaN</td>\n",
       "      <td>NaN</td>\n",
       "      <td>...</td>\n",
       "      <td>NaN</td>\n",
       "      <td>NaN</td>\n",
       "      <td>NaN</td>\n",
       "      <td>NaN</td>\n",
       "      <td>NaN</td>\n",
       "      <td>NaN</td>\n",
       "      <td>NaN</td>\n",
       "      <td>NaN</td>\n",
       "      <td>NaN</td>\n",
       "      <td>1986-05-28</td>\n",
       "    </tr>\n",
       "    <tr>\n",
       "      <th>4</th>\n",
       "      <td>10000</td>\n",
       "      <td>198605</td>\n",
       "      <td>NaN</td>\n",
       "      <td>NaN</td>\n",
       "      <td>NaN</td>\n",
       "      <td>NaN</td>\n",
       "      <td>NaN</td>\n",
       "      <td>NaN</td>\n",
       "      <td>NaN</td>\n",
       "      <td>NaN</td>\n",
       "      <td>...</td>\n",
       "      <td>NaN</td>\n",
       "      <td>NaN</td>\n",
       "      <td>NaN</td>\n",
       "      <td>NaN</td>\n",
       "      <td>NaN</td>\n",
       "      <td>NaN</td>\n",
       "      <td>NaN</td>\n",
       "      <td>NaN</td>\n",
       "      <td>NaN</td>\n",
       "      <td>1986-06-28</td>\n",
       "    </tr>\n",
       "  </tbody>\n",
       "</table>\n",
       "<p>5 rows × 21 columns</p>\n",
       "</div>"
      ],
      "text/plain": [
       "   permno yyyymm_signals  AM  AOP  AbnormalAccruals  Accruals  AccrualsBM  \\\n",
       "0   10000         198601 NaN  NaN               NaN       NaN         NaN   \n",
       "1   10000         198602 NaN  NaN               NaN       NaN         NaN   \n",
       "2   10000         198603 NaN  NaN               NaN       NaN         NaN   \n",
       "3   10000         198604 NaN  NaN               NaN       NaN         NaN   \n",
       "4   10000         198605 NaN  NaN               NaN       NaN         NaN   \n",
       "\n",
       "   Activism1  Activism2  AdExp  ...  AnalystRevision  AnalystValue  \\\n",
       "0        NaN        NaN    NaN  ...              NaN           NaN   \n",
       "1        NaN        NaN    NaN  ...              NaN           NaN   \n",
       "2        NaN        NaN    NaN  ...              NaN           NaN   \n",
       "3        NaN        NaN    NaN  ...              NaN           NaN   \n",
       "4        NaN        NaN    NaN  ...              NaN           NaN   \n",
       "\n",
       "   AnnouncementReturn  AssetGrowth  BM  BMdec  BPEBM  Beta  BetaFP       date  \n",
       "0                 NaN          NaN NaN    NaN    NaN   NaN     NaN 1986-02-28  \n",
       "1                 NaN          NaN NaN    NaN    NaN   NaN     NaN 1986-03-28  \n",
       "2                 NaN          NaN NaN    NaN    NaN   NaN     NaN 1986-04-28  \n",
       "3                 NaN          NaN NaN    NaN    NaN   NaN     NaN 1986-05-28  \n",
       "4                 NaN          NaN NaN    NaN    NaN   NaN     NaN 1986-06-28  \n",
       "\n",
       "[5 rows x 21 columns]"
      ]
     },
     "execution_count": 11,
     "metadata": {},
     "output_type": "execute_result"
    }
   ],
   "source": [
    "signals = signals.rename(columns={'yyyymm': 'yyyymm_signals'})\n",
    "\n",
    "\n",
    "    # Create date that is one month ahead for merging with returns\n",
    "signals[\"yyyymm_signals\"] = signals[\"yyyymm_signals\"].astype(str) \n",
    "signals[\"date\"] = pd.to_datetime(signals[\"yyyymm_signals\"] + \"28\", format=\"%Y%m%d\") + pd.DateOffset(months=1)\n",
    "\n",
    "\n",
    "signals = move_column_to_front(signals, ['permno', 'date'])\n",
    "\n",
    "signals.head()"
   ]
  },
  {
   "cell_type": "code",
   "execution_count": null,
   "id": "c4ae566d",
   "metadata": {},
   "outputs": [],
   "source": [
    "\n",
    "\n",
    "# create a new datetime column, use the year and month, but make the date 28th of the month:\n",
    "cleancrsp['date'] = pd.to_datetime(cleancrsp['date'].dt.year*100 + cleancrsp['date'].dt.month, format='%Y%m') + pd.DateOffset(days=27)\n"
   ]
  },
  {
   "cell_type": "markdown",
   "id": "0fda62b6",
   "metadata": {},
   "source": [
    "## Need to Convert yyyymm column to yyyy-mm-dd datetime column, rename to date\n",
    "\n",
    "Something interesting, the crsp dataset uses trading days. How do we get this in our signals dataset. Just go off year-months?\n",
    "\n",
    "Can we merge on yyyy-mm and not include dd so that we can match the crsp dates? But how would it know the date in the future? For instance, would it know the end of the month a year from now, or guess based on the previous crsp dd for that year or month before?\n",
    "\n",
    "Is lagging the signals the right thing to do or do I lag the returns??\n",
    "\n",
    "\n",
    "value weighting \n"
   ]
  },
  {
   "cell_type": "code",
   "execution_count": null,
   "id": "2108c3e9",
   "metadata": {},
   "outputs": [],
   "source": [
    "bigdata = cleancrsp.merge(signals, on=['permno', 'date'], how='left', indicator=True, validate=\"one_to_one\")"
   ]
  }
 ],
 "metadata": {
  "kernelspec": {
   "display_name": "base",
   "language": "python",
   "name": "python3"
  },
  "language_info": {
   "codemirror_mode": {
    "name": "ipython",
    "version": 3
   },
   "file_extension": ".py",
   "mimetype": "text/x-python",
   "name": "python",
   "nbconvert_exporter": "python",
   "pygments_lexer": "ipython3",
   "version": "3.12.7"
  }
 },
 "nbformat": 4,
 "nbformat_minor": 5
}
